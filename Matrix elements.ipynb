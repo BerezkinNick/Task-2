{
 "cells": [
  {
   "cell_type": "code",
   "execution_count": 63,
   "id": "02cb3b2a",
   "metadata": {},
   "outputs": [],
   "source": [
    "import numpy as np\n",
    "import matplotlib.pyplot as plt\n",
    "import matplotlib\n",
    "import scipy\n",
    "from IPython import display\n",
    "%matplotlib inline"
   ]
  },
  {
   "cell_type": "code",
   "execution_count": 88,
   "id": "b5f6ed37",
   "metadata": {},
   "outputs": [],
   "source": [
    "def MatrixElements(E_L, E_C, E_J, filename):\n",
    "    \n",
    "    N= 800\n",
    "    h = 0.04\n",
    "    b=h**2/12\n",
    "    a=0.1;\n",
    "    precision=9\n",
    "    \n",
    "    E=0 \n",
    "    E_step = 0.1 \n",
    "    E_step_sign = 1\n",
    "\n",
    "    eigenfunctions=[]\n",
    "    eigenvalues=[]\n",
    "\n",
    "    file = open(filename, \"w+\")\n",
    "    file.close()\n",
    "    \n",
    "    lastsign=0; #\n",
    "\n",
    "    nextVal=False\n",
    "\n",
    "    #fig=plt.figure(figsize=(10, 8)) \n",
    "    #ax=fig.add_subplot(111)\n",
    "    #line,=ax.plot([0],[0])\n",
    "    #plt.ion()\n",
    "    #plt.xlabel('x')\n",
    "    #plt.ylabel('Wave function')\n",
    "    #plt.grid()\n",
    "    #plt.show()\n",
    "    I = []\n",
    "    I1 = []\n",
    "    phi = []\n",
    "    phi.append(-6)\n",
    "    for j in range(300):\n",
    "        phi.append(phi[j] + 0.04) \n",
    "\n",
    "    for l in range(len(phi)):\n",
    "        eigenfunctions = []\n",
    "        E = 0\n",
    "        def V(x):\n",
    "            V = E_L * (x)**2 / 2 - E_J * np.cos(x + phi[l])\n",
    "            return V\n",
    "\n",
    "        def G(x,E):\n",
    "            return (E-V(x))/(4*E_C)\n",
    "\n",
    "        exit=False \n",
    "        p = 0\n",
    "        while (not exit):\n",
    "\n",
    "            x = np.zeros(N, dtype=np.float64)\n",
    "            y = np.zeros(N, dtype=np.float64)    \n",
    "            k = np.zeros(N, dtype=np.float64) \n",
    "            i = 0\n",
    "            y[i] = 0  #Добавляем условие f[-inf]=0 при наименьшем отрицательном расстоянии\n",
    "            x[i] = -N/2*h\n",
    "            k[i] = G(x[i],E)\n",
    "            y[i+1] = a\n",
    "            x[i+1] = x[i]+h\n",
    "            k[i+1] = G(x[i+1],E)\n",
    "            i+=1    \n",
    "\n",
    "            while(i < N-1):\n",
    "                x[i+1] = x[i] + h\n",
    "                k[i+1] = G(x[i+1], E)\n",
    "                y[i+1] = (2*(1-5*b*k[i])*y[i]-(1+b*k[i-1])*y[i-1])/(1+b*k[i+1]) \n",
    "                i+=1\n",
    "\n",
    "            #line.set_data(x, y/np.sqrt((np.abs(y)**2).sum()))\n",
    "            #ax.relim()\n",
    "            #ax.autoscale_view()\n",
    "            #ax.set_title('Энергия: %.10g \\n Поток: %g'%(E, phi[l]))\n",
    "            #display.clear_output(wait=True)\n",
    "            #display.display(fig) \n",
    "\n",
    "\n",
    "            #Проверяем знак волновой функции в последней точке, чтобы убедиться, что на бесконечности она равна нулю. \n",
    "            #Если знак при переходе от одной итерации к другой изменяется, то мы сужаем интервал энергии в два раза.\n",
    "\n",
    "            sign = y[-1] / abs(y[-1])\n",
    "            if (lastsign == 0):\n",
    "                lastsign = sign\n",
    "            elif (sign != lastsign):\n",
    "                lastsign = sign\n",
    "                E_step_sign = E_step_sign*(-1)\n",
    "                E_step = E_step / 2       \n",
    "                if E_step < 10**(-precision):\n",
    "                    nextVal=True\n",
    "                    p = p + 1\n",
    "\n",
    "            #Если расстояние от 0 последнего шага точки меньше  заданной точности, и мы начинаем поиск следующего решения.\n",
    "            if abs(y[-1])<10*a:\n",
    "                nextVal=True\n",
    "                p = p + 1\n",
    "\n",
    "            if nextVal:\n",
    "                eigenvalues.append(E)\n",
    "                eigenfunctions.append(y)\n",
    "                E_step=0.1\n",
    "                E_step_sign=1\n",
    "                lastsign=0\n",
    "                #line,=ax.plot([0],[0])\n",
    "                nextVal=False \n",
    "                if len(eigenfunctions) >= 3:\n",
    "                    exit=True\n",
    "\n",
    "            E += E_step_sign*E_step\n",
    "        \n",
    "        m = round(scipy.integrate.trapezoid(eigenfunctions[0]*eigenfunctions[2]*x, x), 8)\n",
    "        I.append(m*(eigenvalues[2] - eigenvalues[0]))\n",
    "            \n",
    "    with open(filename, 'w') as fp:\n",
    "        for item in I:\n",
    "            fp.write(\"%s\\n\" % item)"
   ]
  },
  {
   "cell_type": "code",
   "execution_count": 89,
   "id": "acfb99b1",
   "metadata": {},
   "outputs": [],
   "source": [
    "MatrixElements(0.5, 20, 10, \"20-10_m11.txt\")"
   ]
  },
  {
   "cell_type": "code",
   "execution_count": 92,
   "id": "a4adee55",
   "metadata": {},
   "outputs": [],
   "source": [
    "def Graph(filename):\n",
    "    \n",
    "    with open(filename, 'r') as file:\n",
    "        S = [line.strip() for line in file]\n",
    "    I = [float(x)/1000000 for x in S]\n",
    "    \n",
    "    phi = []\n",
    "    phi.append(-6)\n",
    "    for j in range(300):\n",
    "        phi.append(phi[j] + 0.04) \n",
    "    \n",
    "    plt.figure(figsize=(12, 9))\n",
    "    plt.plot(phi[150:223], I[150:223], marker='', linestyle='-', c = 'purple')\n",
    "    plt.grid()\n",
    "    plt.xlabel(\"Внешний поток\", fontsize=15)\n",
    "    plt.ylabel(\"Матричный элемент заряда\", fontsize=15)\n",
    "    formatter = matplotlib.ticker.ScalarFormatter()\n",
    "    formatter.set_powerlimits((-3, 2))\n",
    "    plt.legend()"
   ]
  },
  {
   "cell_type": "code",
   "execution_count": 93,
   "id": "1b29d62a",
   "metadata": {},
   "outputs": [
    {
     "name": "stderr",
     "output_type": "stream",
     "text": [
      "No artists with labels found to put in legend.  Note that artists whose label start with an underscore are ignored when legend() is called with no argument.\n"
     ]
    },
    {
     "data": {
      "image/png": "[encoded data removed]",
      "text/plain": [
       "<Figure size 864x648 with 1 Axes>"
      ]
     },
     "metadata": {
      "needs_background": "light"
     },
     "output_type": "display_data"
    }
   ],
   "source": [
    "Graph(\"20-10_m11.txt\")"
   ]
  },
  {
   "cell_type": "code",
   "execution_count": null,
   "id": "d88c1bcd",
   "metadata": {},
   "outputs": [],
   "source": []
  }
 ],
 "metadata": {
  "kernelspec": {
   "display_name": "Python 3 (ipykernel)",
   "language": "python",
   "name": "python3"
  },
  "language_info": {
   "codemirror_mode": {
    "name": "ipython",
    "version": 3
   },
   "file_extension": ".py",
   "mimetype": "text/x-python",
   "name": "python",
   "nbconvert_exporter": "python",
   "pygments_lexer": "ipython3",
   "version": "3.10.0"
  }
 },
 "nbformat": 4,
 "nbformat_minor": 5
}
